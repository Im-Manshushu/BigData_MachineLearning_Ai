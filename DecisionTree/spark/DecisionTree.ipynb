{
 "cells": [
  {
   "cell_type": "code",
   "execution_count": 2,
   "id": "bdb37e30",
   "metadata": {},
   "outputs": [],
   "source": [
    "from pyspark.sql import SparkSession\n",
    "import pandas as pd\n",
    "from pyspark.ml import Pipeline\n",
    "from pyspark.ml.feature import StringIndexer, OneHotEncoder, VectorAssembler"
   ]
  },
  {
   "cell_type": "code",
   "execution_count": 3,
   "id": "93f39c4e",
   "metadata": {},
   "outputs": [
    {
     "name": "stdout",
     "output_type": "stream",
     "text": [
      "root\n",
      " |-- age: string (nullable = true)\n",
      " |-- workclass: string (nullable = true)\n",
      " |-- fnlwgt: string (nullable = true)\n",
      " |-- education: string (nullable = true)\n",
      " |-- education_num: string (nullable = true)\n",
      " |-- marital_status: string (nullable = true)\n",
      " |-- occupation: string (nullable = true)\n",
      " |-- relationship: string (nullable = true)\n",
      " |-- race: string (nullable = true)\n",
      " |-- sex: string (nullable = true)\n",
      " |-- capital_gain: string (nullable = true)\n",
      " |-- capital_loss: string (nullable = true)\n",
      " |-- hours_per_week: string (nullable = true)\n",
      " |-- native_country: string (nullable = true)\n",
      " |-- salary: string (nullable = true)\n",
      "\n"
     ]
    }
   ],
   "source": [
    "spark = SparkSession\\\n",
    "     .builder\\\n",
    "     .appName(\"DecisionTree\")\\\n",
    "     .master(\"local[*]\") \\\n",
    "     .enableHiveSupport()\\\n",
    "     .getOrCreate()\n",
    "data=spark.sql(\"select * from  ml.adult\")\n",
    "#OneHotEncoder不能处理空字符串。所以我们需要将数据集中的空字符串提前处理一下\n",
    "df=data.na.replace('','NA')\n",
    "cols = df.columns #和pandas一样看列名\n",
    "df.printSchema()"
   ]
  },
  {
   "cell_type": "code",
   "execution_count": 4,
   "id": "cf92b5b4",
   "metadata": {},
   "outputs": [],
   "source": [
    "#找到所有的string类型的变量\n",
    "#dtypes用来看数据变量类型\n",
    "cat_features = [item[0] for item in df.dtypes if item[1]=='string']\n",
    "# 需要删除 salary列，否则标签泄露\n",
    "cat_features.remove('salary')\n",
    "#找到所有数字变量\n",
    "num_features = [item[0] for item in df.dtypes if item[1]!='string']"
   ]
  },
  {
   "cell_type": "code",
   "execution_count": 5,
   "id": "a55c5fe7",
   "metadata": {},
   "outputs": [],
   "source": [
    "stages = []\n",
    "for col in cat_features:\n",
    "    # 字符串转成索引\n",
    "    string_index = StringIndexer(inputCol = col, outputCol = col + 'Index')\n",
    "    # 转换为OneHot编码\n",
    "    encoder = OneHotEncoder(inputCol=string_index.getOutputCol(), outputCol=col + \"_one_hot\")\n",
    "    # 将每个字段的转换方式 放到stages中\n",
    "    stages += [string_index, encoder]"
   ]
  },
  {
   "cell_type": "code",
   "execution_count": 6,
   "id": "38dfccbd",
   "metadata": {},
   "outputs": [],
   "source": [
    "# 将salary转换为索引\n",
    "label_string_index = StringIndexer(inputCol = 'salary', outputCol = 'label')\n",
    "# 添加到stages中\n",
    "stages += [label_string_index]"
   ]
  },
  {
   "cell_type": "code",
   "execution_count": 7,
   "id": "cadd2223",
   "metadata": {},
   "outputs": [],
   "source": [
    "# 类别变量 + 数值变量\n",
    "assembler_cols = [c + \"_one_hot\" for c in cat_features] + num_features\n",
    "assembler = VectorAssembler(inputCols=assembler_cols, outputCol=\"features\")\n",
    "stages += [assembler]\n",
    "\n",
    "\n",
    "# 使用pipeline完成数据处理\n",
    "pipeline = Pipeline(stages=stages)\n",
    "pipeline_model = pipeline.fit(df)\n",
    "df = pipeline_model.transform(df)\n",
    "selected_cols = [\"label\", \"features\"] + cols\n",
    "df = df.select(selected_cols)"
   ]
  },
  {
   "cell_type": "code",
   "execution_count": 8,
   "id": "afa5247d",
   "metadata": {},
   "outputs": [
    {
     "data": {
      "text/html": [
       "<div>\n",
       "<style scoped>\n",
       "    .dataframe tbody tr th:only-of-type {\n",
       "        vertical-align: middle;\n",
       "    }\n",
       "\n",
       "    .dataframe tbody tr th {\n",
       "        vertical-align: top;\n",
       "    }\n",
       "\n",
       "    .dataframe thead th {\n",
       "        text-align: right;\n",
       "    }\n",
       "</style>\n",
       "<table border=\"1\" class=\"dataframe\">\n",
       "  <thead>\n",
       "    <tr style=\"text-align: right;\">\n",
       "      <th></th>\n",
       "      <th>label</th>\n",
       "      <th>features</th>\n",
       "      <th>age</th>\n",
       "      <th>workclass</th>\n",
       "      <th>fnlwgt</th>\n",
       "      <th>education</th>\n",
       "      <th>education_num</th>\n",
       "      <th>marital_status</th>\n",
       "      <th>occupation</th>\n",
       "      <th>relationship</th>\n",
       "      <th>race</th>\n",
       "      <th>sex</th>\n",
       "      <th>capital_gain</th>\n",
       "      <th>capital_loss</th>\n",
       "      <th>hours_per_week</th>\n",
       "      <th>native_country</th>\n",
       "      <th>salary</th>\n",
       "    </tr>\n",
       "  </thead>\n",
       "  <tbody>\n",
       "    <tr>\n",
       "      <th>0</th>\n",
       "      <td>1.0</td>\n",
       "      <td>(0.0, 0.0, 0.0, 0.0, 0.0, 0.0, 0.0, 0.0, 0.0, ...</td>\n",
       "      <td>49</td>\n",
       "      <td>Private</td>\n",
       "      <td>101320</td>\n",
       "      <td>Assoc-acdm</td>\n",
       "      <td>12.0</td>\n",
       "      <td>Married-civ-spouse</td>\n",
       "      <td>NA</td>\n",
       "      <td>Wife</td>\n",
       "      <td>White</td>\n",
       "      <td>Female</td>\n",
       "      <td>0</td>\n",
       "      <td>1902</td>\n",
       "      <td>40</td>\n",
       "      <td>United-States</td>\n",
       "      <td>&gt;=50k</td>\n",
       "    </tr>\n",
       "    <tr>\n",
       "      <th>1</th>\n",
       "      <td>1.0</td>\n",
       "      <td>(0.0, 0.0, 0.0, 0.0, 0.0, 0.0, 0.0, 0.0, 0.0, ...</td>\n",
       "      <td>44</td>\n",
       "      <td>Private</td>\n",
       "      <td>236746</td>\n",
       "      <td>Masters</td>\n",
       "      <td>14.0</td>\n",
       "      <td>Divorced</td>\n",
       "      <td>Exec-managerial</td>\n",
       "      <td>Not-in-family</td>\n",
       "      <td>White</td>\n",
       "      <td>Male</td>\n",
       "      <td>10520</td>\n",
       "      <td>0</td>\n",
       "      <td>45</td>\n",
       "      <td>United-States</td>\n",
       "      <td>&gt;=50k</td>\n",
       "    </tr>\n",
       "  </tbody>\n",
       "</table>\n",
       "</div>"
      ],
      "text/plain": [
       "   label                                           features age workclass  \\\n",
       "0    1.0  (0.0, 0.0, 0.0, 0.0, 0.0, 0.0, 0.0, 0.0, 0.0, ...  49   Private   \n",
       "1    1.0  (0.0, 0.0, 0.0, 0.0, 0.0, 0.0, 0.0, 0.0, 0.0, ...  44   Private   \n",
       "\n",
       "   fnlwgt    education education_num       marital_status        occupation  \\\n",
       "0  101320   Assoc-acdm          12.0   Married-civ-spouse                NA   \n",
       "1  236746      Masters          14.0             Divorced   Exec-managerial   \n",
       "\n",
       "     relationship    race      sex capital_gain capital_loss hours_per_week  \\\n",
       "0            Wife   White   Female            0         1902             40   \n",
       "1   Not-in-family   White     Male        10520            0             45   \n",
       "\n",
       "   native_country salary  \n",
       "0   United-States  >=50k  \n",
       "1   United-States  >=50k  "
      ]
     },
     "execution_count": 8,
     "metadata": {},
     "output_type": "execute_result"
    }
   ],
   "source": [
    "pd.DataFrame(df.take(2), columns = df.columns)"
   ]
  },
  {
   "cell_type": "code",
   "execution_count": 9,
   "id": "b079813f",
   "metadata": {},
   "outputs": [
    {
     "name": "stdout",
     "output_type": "stream",
     "text": [
      "22777\n",
      "9784\n"
     ]
    }
   ],
   "source": [
    "train, test = df.randomSplit([0.7, 0.3], seed=2021)\n",
    "print(train.count())\n",
    "print(test.count())"
   ]
  },
  {
   "cell_type": "code",
   "execution_count": 10,
   "id": "152b7637",
   "metadata": {},
   "outputs": [
    {
     "name": "stdout",
     "output_type": "stream",
     "text": [
      "DecisionTreeClassificationModel (uid=DecisionTreeClassifier_add798222934) of depth 3 with 15 nodes\n",
      "  If (feature 21758 in {0.0})\n",
      "   If (feature 21789 in {0.0})\n",
      "    If (feature 21798 in {1.0})\n",
      "     Predict: 1.0\n",
      "    Else (feature 21798 not in {1.0})\n",
      "     Predict: 0.0\n",
      "   Else (feature 21789 not in {0.0})\n",
      "    If (feature 21920 in {1.0})\n",
      "     Predict: 1.0\n",
      "    Else (feature 21920 not in {1.0})\n",
      "     Predict: 0.0\n",
      "  Else (feature 21758 not in {0.0})\n",
      "   If (feature 21789 in {0.0})\n",
      "    If (feature 21797 in {1.0})\n",
      "     Predict: 0.0\n",
      "    Else (feature 21797 not in {1.0})\n",
      "     Predict: 1.0\n",
      "   Else (feature 21789 not in {0.0})\n",
      "    If (feature 21729 in {1.0})\n",
      "     Predict: 1.0\n",
      "    Else (feature 21729 not in {1.0})\n",
      "     Predict: 0.0\n",
      "\n"
     ]
    }
   ],
   "source": [
    "from pyspark.ml.classification import DecisionTreeClassifier\n",
    "\n",
    "# 创建决策树模型\n",
    "dt = DecisionTreeClassifier(featuresCol = 'features', labelCol = 'label', maxDepth = 3)\n",
    "dt_model = dt.fit(train)\n",
    "\n",
    "#查看决策树结构\n",
    "print(dt_model._call_java('toDebugString'))"
   ]
  },
  {
   "cell_type": "code",
   "execution_count": 25,
   "id": "d95f4840",
   "metadata": {},
   "outputs": [
    {
     "name": "stdout",
     "output_type": "stream",
     "text": [
      "root\n",
      " |-- label: double (nullable = false)\n",
      " |-- features: vector (nullable = true)\n",
      " |-- age: string (nullable = true)\n",
      " |-- workclass: string (nullable = true)\n",
      " |-- fnlwgt: string (nullable = true)\n",
      " |-- education: string (nullable = true)\n",
      " |-- education_num: string (nullable = true)\n",
      " |-- marital_status: string (nullable = true)\n",
      " |-- occupation: string (nullable = true)\n",
      " |-- relationship: string (nullable = true)\n",
      " |-- race: string (nullable = true)\n",
      " |-- sex: string (nullable = true)\n",
      " |-- capital_gain: string (nullable = true)\n",
      " |-- capital_loss: string (nullable = true)\n",
      " |-- hours_per_week: string (nullable = true)\n",
      " |-- native_country: string (nullable = true)\n",
      " |-- salary: string (nullable = true)\n",
      " |-- rawPrediction: vector (nullable = true)\n",
      " |-- probability: vector (nullable = true)\n",
      " |-- prediction: double (nullable = false)\n",
      "\n"
     ]
    },
    {
     "data": {
      "text/plain": [
       "DataFrame[label: double]"
      ]
     },
     "execution_count": 25,
     "metadata": {},
     "output_type": "execute_result"
    }
   ],
   "source": [
    "predictions = dt_model.transform(test)\n",
    "predictions.printSchema()\n",
    "predictions.select(\"label\")"
   ]
  },
  {
   "cell_type": "code",
   "execution_count": 13,
   "id": "9eeacabf",
   "metadata": {},
   "outputs": [
    {
     "data": {
      "text/plain": [
       "0.7116663558561737"
      ]
     },
     "execution_count": 13,
     "metadata": {},
     "output_type": "execute_result"
    }
   ],
   "source": [
    "from pyspark.ml.evaluation import BinaryClassificationEvaluator\n",
    "\n",
    "evaluator = BinaryClassificationEvaluator()\n",
    "evaluator.evaluate(predictions)"
   ]
  }
 ],
 "metadata": {
  "kernelspec": {
   "display_name": "Python [conda env:py36]",
   "language": "python",
   "name": "conda-env-py36-py"
  },
  "language_info": {
   "codemirror_mode": {
    "name": "ipython",
    "version": 3
   },
   "file_extension": ".py",
   "mimetype": "text/x-python",
   "name": "python",
   "nbconvert_exporter": "python",
   "pygments_lexer": "ipython3",
   "version": "3.6.10"
  }
 },
 "nbformat": 4,
 "nbformat_minor": 5
}
