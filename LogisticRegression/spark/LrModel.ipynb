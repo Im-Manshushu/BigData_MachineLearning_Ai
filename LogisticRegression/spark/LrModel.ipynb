{
 "cells": [
  {
   "cell_type": "code",
   "execution_count": 118,
   "id": "ec8ba4c2",
   "metadata": {},
   "outputs": [],
   "source": [
    "from pyspark.sql import SparkSession\n",
    "import pandas as pd\n",
    "from pyspark.ml import Pipeline\n",
    "from pyspark.ml.feature import StringIndexer, OneHotEncoder, VectorAssembler"
   ]
  },
  {
   "cell_type": "code",
   "execution_count": 119,
   "id": "4e667561",
   "metadata": {},
   "outputs": [
    {
     "name": "stdout",
     "output_type": "stream",
     "text": [
      "root\n",
      " |-- age: string (nullable = true)\n",
      " |-- workclass: string (nullable = true)\n",
      " |-- fnlwgt: string (nullable = true)\n",
      " |-- education: string (nullable = true)\n",
      " |-- education_num: string (nullable = true)\n",
      " |-- marital_status: string (nullable = true)\n",
      " |-- occupation: string (nullable = true)\n",
      " |-- relationship: string (nullable = true)\n",
      " |-- race: string (nullable = true)\n",
      " |-- sex: string (nullable = true)\n",
      " |-- capital_gain: string (nullable = true)\n",
      " |-- capital_loss: string (nullable = true)\n",
      " |-- hours_per_week: string (nullable = true)\n",
      " |-- native_country: string (nullable = true)\n",
      " |-- salary: string (nullable = true)\n",
      "\n"
     ]
    }
   ],
   "source": [
    "spark = SparkSession\\\n",
    "     .builder\\\n",
    "     .appName(\"LrModel\")\\\n",
    "     .master(\"local[*]\") \\\n",
    "     .enableHiveSupport()\\\n",
    "     .getOrCreate()\n",
    "data=spark.sql(\"select * from  ml.adult\")\n",
    "#OneHotEncoder不能处理空字符串。所以我们需要将数据集中的空字符串提前处理一下\n",
    "df=data.na.replace('','NA')\n",
    "cols = df.columns #和pandas一样看列名\n",
    "df.printSchema()"
   ]
  },
  {
   "cell_type": "code",
   "execution_count": 120,
   "id": "5ba8254c",
   "metadata": {},
   "outputs": [],
   "source": [
    "#找到所有的string类型的变量\n",
    "#dtypes用来看数据变量类型\n",
    "cat_features = [item[0] for item in df.dtypes if item[1]=='string']\n",
    "# 需要删除 salary列，否则标签泄露\n",
    "cat_features.remove('salary')\n",
    "#找到所有数字变量\n",
    "num_features = [item[0] for item in df.dtypes if item[1]!='string']"
   ]
  },
  {
   "cell_type": "code",
   "execution_count": 121,
   "id": "0c11b4d4",
   "metadata": {},
   "outputs": [],
   "source": [
    "stages = []\n",
    "for col in cat_features:\n",
    "    # 字符串转成索引\n",
    "    string_index = StringIndexer(inputCol = col, outputCol = col + 'Index')\n",
    "    # 转换为OneHot编码\n",
    "    encoder = OneHotEncoder(inputCol=string_index.getOutputCol(), outputCol=col + \"_one_hot\")\n",
    "    # 将每个字段的转换方式 放到stages中\n",
    "    stages += [string_index, encoder]"
   ]
  },
  {
   "cell_type": "code",
   "execution_count": 122,
   "id": "a2e849af",
   "metadata": {},
   "outputs": [],
   "source": [
    "# 将salary转换为索引\n",
    "label_string_index = StringIndexer(inputCol = 'salary', outputCol = 'label')\n",
    "# 添加到stages中\n",
    "stages += [label_string_index]"
   ]
  },
  {
   "cell_type": "code",
   "execution_count": 123,
   "id": "d9d8778e",
   "metadata": {},
   "outputs": [],
   "source": [
    "# 类别变量 + 数值变量\n",
    "assembler_cols = [c + \"_one_hot\" for c in cat_features] + num_features\n",
    "assembler = VectorAssembler(inputCols=assembler_cols, outputCol=\"features\")\n",
    "stages += [assembler]\n",
    "\n",
    "\n",
    "# 使用pipeline完成数据处理\n",
    "pipeline = Pipeline(stages=stages)\n",
    "pipeline_model = pipeline.fit(df)\n",
    "df = pipeline_model.transform(df)\n",
    "selected_cols = [\"label\", \"features\"] + cols\n",
    "df = df.select(selected_cols)"
   ]
  },
  {
   "cell_type": "code",
   "execution_count": 124,
   "id": "19d1971e",
   "metadata": {},
   "outputs": [
    {
     "data": {
      "text/html": [
       "<div>\n",
       "<style scoped>\n",
       "    .dataframe tbody tr th:only-of-type {\n",
       "        vertical-align: middle;\n",
       "    }\n",
       "\n",
       "    .dataframe tbody tr th {\n",
       "        vertical-align: top;\n",
       "    }\n",
       "\n",
       "    .dataframe thead th {\n",
       "        text-align: right;\n",
       "    }\n",
       "</style>\n",
       "<table border=\"1\" class=\"dataframe\">\n",
       "  <thead>\n",
       "    <tr style=\"text-align: right;\">\n",
       "      <th></th>\n",
       "      <th>label</th>\n",
       "      <th>features</th>\n",
       "      <th>age</th>\n",
       "      <th>workclass</th>\n",
       "      <th>fnlwgt</th>\n",
       "      <th>education</th>\n",
       "      <th>education_num</th>\n",
       "      <th>marital_status</th>\n",
       "      <th>occupation</th>\n",
       "      <th>relationship</th>\n",
       "      <th>race</th>\n",
       "      <th>sex</th>\n",
       "      <th>capital_gain</th>\n",
       "      <th>capital_loss</th>\n",
       "      <th>hours_per_week</th>\n",
       "      <th>native_country</th>\n",
       "      <th>salary</th>\n",
       "    </tr>\n",
       "  </thead>\n",
       "  <tbody>\n",
       "    <tr>\n",
       "      <th>0</th>\n",
       "      <td>1.0</td>\n",
       "      <td>(0.0, 0.0, 0.0, 0.0, 0.0, 0.0, 0.0, 0.0, 0.0, ...</td>\n",
       "      <td>49</td>\n",
       "      <td>Private</td>\n",
       "      <td>101320</td>\n",
       "      <td>Assoc-acdm</td>\n",
       "      <td>12.0</td>\n",
       "      <td>Married-civ-spouse</td>\n",
       "      <td>NA</td>\n",
       "      <td>Wife</td>\n",
       "      <td>White</td>\n",
       "      <td>Female</td>\n",
       "      <td>0</td>\n",
       "      <td>1902</td>\n",
       "      <td>40</td>\n",
       "      <td>United-States</td>\n",
       "      <td>&gt;=50k</td>\n",
       "    </tr>\n",
       "    <tr>\n",
       "      <th>1</th>\n",
       "      <td>1.0</td>\n",
       "      <td>(0.0, 0.0, 0.0, 0.0, 0.0, 0.0, 0.0, 0.0, 0.0, ...</td>\n",
       "      <td>44</td>\n",
       "      <td>Private</td>\n",
       "      <td>236746</td>\n",
       "      <td>Masters</td>\n",
       "      <td>14.0</td>\n",
       "      <td>Divorced</td>\n",
       "      <td>Exec-managerial</td>\n",
       "      <td>Not-in-family</td>\n",
       "      <td>White</td>\n",
       "      <td>Male</td>\n",
       "      <td>10520</td>\n",
       "      <td>0</td>\n",
       "      <td>45</td>\n",
       "      <td>United-States</td>\n",
       "      <td>&gt;=50k</td>\n",
       "    </tr>\n",
       "  </tbody>\n",
       "</table>\n",
       "</div>"
      ],
      "text/plain": [
       "   label                                           features age workclass  \\\n",
       "0    1.0  (0.0, 0.0, 0.0, 0.0, 0.0, 0.0, 0.0, 0.0, 0.0, ...  49   Private   \n",
       "1    1.0  (0.0, 0.0, 0.0, 0.0, 0.0, 0.0, 0.0, 0.0, 0.0, ...  44   Private   \n",
       "\n",
       "   fnlwgt    education education_num       marital_status        occupation  \\\n",
       "0  101320   Assoc-acdm          12.0   Married-civ-spouse                NA   \n",
       "1  236746      Masters          14.0             Divorced   Exec-managerial   \n",
       "\n",
       "     relationship    race      sex capital_gain capital_loss hours_per_week  \\\n",
       "0            Wife   White   Female            0         1902             40   \n",
       "1   Not-in-family   White     Male        10520            0             45   \n",
       "\n",
       "   native_country salary  \n",
       "0   United-States  >=50k  \n",
       "1   United-States  >=50k  "
      ]
     },
     "execution_count": 124,
     "metadata": {},
     "output_type": "execute_result"
    }
   ],
   "source": [
    "# df2.show(20)\n",
    "pd.DataFrame(df.take(2), columns = df.columns)"
   ]
  },
  {
   "cell_type": "code",
   "execution_count": 125,
   "id": "5a836a49",
   "metadata": {},
   "outputs": [
    {
     "name": "stdout",
     "output_type": "stream",
     "text": [
      "22777\n",
      "9784\n"
     ]
    }
   ],
   "source": [
    "train, test = df.randomSplit([0.7, 0.3], seed=2021)\n",
    "print(train.count())\n",
    "print(test.count())"
   ]
  },
  {
   "cell_type": "code",
   "execution_count": 126,
   "id": "d377cdfb",
   "metadata": {},
   "outputs": [],
   "source": [
    "from pyspark.ml.classification import LogisticRegression\n",
    "# 创建模型\n",
    "lr = LogisticRegression(featuresCol = 'features', labelCol = 'label',maxIter=10)\n",
    "lr_model = lr.fit(train)"
   ]
  },
  {
   "cell_type": "code",
   "execution_count": 127,
   "id": "089507e0",
   "metadata": {},
   "outputs": [],
   "source": [
    "#结果预测\n",
    "\n",
    "predictions = lr_model.transform(test)"
   ]
  },
  {
   "cell_type": "code",
   "execution_count": 128,
   "id": "13cb6574",
   "metadata": {},
   "outputs": [
    {
     "name": "stdout",
     "output_type": "stream",
     "text": [
      "root\n",
      " |-- label: double (nullable = false)\n",
      " |-- features: vector (nullable = true)\n",
      " |-- age: string (nullable = true)\n",
      " |-- workclass: string (nullable = true)\n",
      " |-- fnlwgt: string (nullable = true)\n",
      " |-- education: string (nullable = true)\n",
      " |-- education_num: string (nullable = true)\n",
      " |-- marital_status: string (nullable = true)\n",
      " |-- occupation: string (nullable = true)\n",
      " |-- relationship: string (nullable = true)\n",
      " |-- race: string (nullable = true)\n",
      " |-- sex: string (nullable = true)\n",
      " |-- capital_gain: string (nullable = true)\n",
      " |-- capital_loss: string (nullable = true)\n",
      " |-- hours_per_week: string (nullable = true)\n",
      " |-- native_country: string (nullable = true)\n",
      " |-- salary: string (nullable = true)\n",
      " |-- rawPrediction: vector (nullable = true)\n",
      " |-- probability: vector (nullable = true)\n",
      " |-- prediction: double (nullable = false)\n",
      "\n"
     ]
    }
   ],
   "source": [
    "predictions.printSchema()\n"
   ]
  },
  {
   "cell_type": "code",
   "execution_count": 129,
   "id": "c53759e6",
   "metadata": {},
   "outputs": [
    {
     "data": {
      "text/plain": [
       "DataFrame[label: double, prediction: double, probability: vector, age: string, occupation: string]"
      ]
     },
     "metadata": {},
     "output_type": "display_data"
    },
    {
     "name": "stdout",
     "output_type": "stream",
     "text": [
      "+-----+----------+--------------------+---+-----------------+\n",
      "|label|prediction|         probability|age|       occupation|\n",
      "+-----+----------+--------------------+---+-----------------+\n",
      "|  0.0|       1.0|[0.00946534730918...| 36|            Sales|\n",
      "|  0.0|       1.0|[0.08593020314566...| 36|     Craft-repair|\n",
      "|  0.0|       0.0|[0.97491344948452...| 36|     Adm-clerical|\n",
      "|  0.0|       0.0|[0.99997257230198...| 36| Transport-moving|\n",
      "+-----+----------+--------------------+---+-----------------+\n",
      "only showing top 4 rows\n",
      "\n"
     ]
    }
   ],
   "source": [
    "selected = predictions.select(\"label\", \"prediction\", \"probability\", \"age\", \"occupation\")\n",
    "display(selected)\n",
    "selected.show(4)"
   ]
  },
  {
   "cell_type": "code",
   "execution_count": 130,
   "id": "dc8b4aa3",
   "metadata": {},
   "outputs": [
    {
     "name": "stdout",
     "output_type": "stream",
     "text": [
      "AUC： 0.8894730490646457\n"
     ]
    }
   ],
   "source": [
    "from pyspark.ml.evaluation import BinaryClassificationEvaluator\n",
    "# 模型评估，通过原始数据 rawPrediction计算AUC\n",
    "evaluator = BinaryClassificationEvaluator(rawPredictionCol=\"rawPrediction\")\n",
    "print('AUC：', evaluator.evaluate(predictions))"
   ]
  },
  {
   "cell_type": "code",
   "execution_count": 117,
   "id": "562d5aec",
   "metadata": {},
   "outputs": [],
   "source": [
    "from pyspark.ml.tuning import ParamGridBuilder, CrossValidator\n",
    "\n",
    "# 创建网络参数，用于交叉验证\n",
    "param_grid = (ParamGridBuilder()\n",
    "             .addGrid(lr.regParam, [0.01, 0.5, 2.0])\n",
    "             .addGrid(lr.elasticNetParam, [0.0, 0.5, 1.0])\n",
    "             .addGrid(lr.maxIter, [1, 5, 10])\n",
    "             .build())\n",
    "# 五折交叉验证，设置模型，网格参数，验证方法，折数\n",
    "cv = CrossValidator(estimator=lr, estimatorParamMaps=param_grid, evaluator=evaluator, numFolds=5)\n",
    "# 交叉验证运行\n",
    "cv_model = cv.fit(train)\n",
    "# 对于测试数据，使用五折交叉验证\n",
    "predictions = cv_model.transform(test)\n",
    "print('AUC：', evaluator.evaluate(predictions))"
   ]
  },
  {
   "cell_type": "code",
   "execution_count": null,
   "id": "9ce3ea45",
   "metadata": {},
   "outputs": [],
   "source": []
  },
  {
   "cell_type": "code",
   "execution_count": null,
   "id": "4b9a853a",
   "metadata": {},
   "outputs": [],
   "source": []
  }
 ],
 "metadata": {
  "kernelspec": {
   "display_name": "Python [conda env:py36]",
   "language": "python",
   "name": "conda-env-py36-py"
  },
  "language_info": {
   "codemirror_mode": {
    "name": "ipython",
    "version": 3
   },
   "file_extension": ".py",
   "mimetype": "text/x-python",
   "name": "python",
   "nbconvert_exporter": "python",
   "pygments_lexer": "ipython3",
   "version": "3.6.10"
  }
 },
 "nbformat": 4,
 "nbformat_minor": 5
}
