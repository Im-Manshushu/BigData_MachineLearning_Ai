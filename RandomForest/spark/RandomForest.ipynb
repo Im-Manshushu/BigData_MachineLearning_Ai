{
 "cells": [
  {
   "cell_type": "code",
   "execution_count": 4,
   "id": "bdb37e30",
   "metadata": {},
   "outputs": [],
   "source": [
    "from pyspark.sql import SparkSession\n",
    "import pandas as pd\n",
    "from pyspark.ml import Pipeline\n",
    "from pyspark.ml.feature import StringIndexer, OneHotEncoder, VectorAssembler"
   ]
  },
  {
   "cell_type": "code",
   "execution_count": 5,
   "id": "93f39c4e",
   "metadata": {},
   "outputs": [
    {
     "name": "stdout",
     "output_type": "stream",
     "text": [
      "root\n",
      " |-- age: string (nullable = true)\n",
      " |-- workclass: string (nullable = true)\n",
      " |-- fnlwgt: string (nullable = true)\n",
      " |-- education: string (nullable = true)\n",
      " |-- education_num: string (nullable = true)\n",
      " |-- marital_status: string (nullable = true)\n",
      " |-- occupation: string (nullable = true)\n",
      " |-- relationship: string (nullable = true)\n",
      " |-- race: string (nullable = true)\n",
      " |-- sex: string (nullable = true)\n",
      " |-- capital_gain: string (nullable = true)\n",
      " |-- capital_loss: string (nullable = true)\n",
      " |-- hours_per_week: string (nullable = true)\n",
      " |-- native_country: string (nullable = true)\n",
      " |-- salary: string (nullable = true)\n",
      "\n"
     ]
    }
   ],
   "source": [
    "spark = SparkSession\\\n",
    "     .builder\\\n",
    "     .appName(\"RandomForest\")\\\n",
    "     .master(\"local[*]\") \\\n",
    "     .enableHiveSupport()\\\n",
    "     .getOrCreate()\n",
    "data=spark.sql(\"select * from  ml.adult\")\n",
    "#OneHotEncoder不能处理空字符串。所以我们需要将数据集中的空字符串提前处理一下\n",
    "df=data.na.replace('','NA')\n",
    "cols = df.columns #和pandas一样看列名\n",
    "df.printSchema()"
   ]
  },
  {
   "cell_type": "code",
   "execution_count": 6,
   "id": "cf92b5b4",
   "metadata": {},
   "outputs": [],
   "source": [
    "#找到所有的string类型的变量\n",
    "#dtypes用来看数据变量类型\n",
    "cat_features = [item[0] for item in df.dtypes if item[1]=='string']\n",
    "# 需要删除 salary列，否则标签泄露\n",
    "cat_features.remove('salary')\n",
    "#找到所有数字变量\n",
    "num_features = [item[0] for item in df.dtypes if item[1]!='string']"
   ]
  },
  {
   "cell_type": "code",
   "execution_count": 7,
   "id": "a55c5fe7",
   "metadata": {},
   "outputs": [],
   "source": [
    "stages = []\n",
    "for col in cat_features:\n",
    "    # 字符串转成索引\n",
    "    string_index = StringIndexer(inputCol = col, outputCol = col + 'Index')\n",
    "    # 转换为OneHot编码\n",
    "    encoder = OneHotEncoder(inputCol=string_index.getOutputCol(), outputCol=col + \"_one_hot\")\n",
    "    # 将每个字段的转换方式 放到stages中\n",
    "    stages += [string_index, encoder]"
   ]
  },
  {
   "cell_type": "code",
   "execution_count": 8,
   "id": "38dfccbd",
   "metadata": {},
   "outputs": [],
   "source": [
    "# 将salary转换为索引\n",
    "label_string_index = StringIndexer(inputCol = 'salary', outputCol = 'label')\n",
    "# 添加到stages中\n",
    "stages += [label_string_index]"
   ]
  },
  {
   "cell_type": "code",
   "execution_count": 9,
   "id": "cadd2223",
   "metadata": {},
   "outputs": [],
   "source": [
    "# 类别变量 + 数值变量\n",
    "assembler_cols = [c + \"_one_hot\" for c in cat_features] + num_features\n",
    "assembler = VectorAssembler(inputCols=assembler_cols, outputCol=\"features\")\n",
    "stages += [assembler]\n",
    "\n",
    "\n",
    "# 使用pipeline完成数据处理\n",
    "pipeline = Pipeline(stages=stages)\n",
    "pipeline_model = pipeline.fit(df)\n",
    "df = pipeline_model.transform(df)\n",
    "selected_cols = [\"label\", \"features\"] + cols\n",
    "df = df.select(selected_cols)"
   ]
  },
  {
   "cell_type": "code",
   "execution_count": 10,
   "id": "afa5247d",
   "metadata": {},
   "outputs": [
    {
     "data": {
      "text/html": [
       "<div>\n",
       "<style scoped>\n",
       "    .dataframe tbody tr th:only-of-type {\n",
       "        vertical-align: middle;\n",
       "    }\n",
       "\n",
       "    .dataframe tbody tr th {\n",
       "        vertical-align: top;\n",
       "    }\n",
       "\n",
       "    .dataframe thead th {\n",
       "        text-align: right;\n",
       "    }\n",
       "</style>\n",
       "<table border=\"1\" class=\"dataframe\">\n",
       "  <thead>\n",
       "    <tr style=\"text-align: right;\">\n",
       "      <th></th>\n",
       "      <th>label</th>\n",
       "      <th>features</th>\n",
       "      <th>age</th>\n",
       "      <th>workclass</th>\n",
       "      <th>fnlwgt</th>\n",
       "      <th>education</th>\n",
       "      <th>education_num</th>\n",
       "      <th>marital_status</th>\n",
       "      <th>occupation</th>\n",
       "      <th>relationship</th>\n",
       "      <th>race</th>\n",
       "      <th>sex</th>\n",
       "      <th>capital_gain</th>\n",
       "      <th>capital_loss</th>\n",
       "      <th>hours_per_week</th>\n",
       "      <th>native_country</th>\n",
       "      <th>salary</th>\n",
       "    </tr>\n",
       "  </thead>\n",
       "  <tbody>\n",
       "    <tr>\n",
       "      <th>0</th>\n",
       "      <td>1.0</td>\n",
       "      <td>(0.0, 0.0, 0.0, 0.0, 0.0, 0.0, 0.0, 0.0, 0.0, ...</td>\n",
       "      <td>49</td>\n",
       "      <td>Private</td>\n",
       "      <td>101320</td>\n",
       "      <td>Assoc-acdm</td>\n",
       "      <td>12.0</td>\n",
       "      <td>Married-civ-spouse</td>\n",
       "      <td>NA</td>\n",
       "      <td>Wife</td>\n",
       "      <td>White</td>\n",
       "      <td>Female</td>\n",
       "      <td>0</td>\n",
       "      <td>1902</td>\n",
       "      <td>40</td>\n",
       "      <td>United-States</td>\n",
       "      <td>&gt;=50k</td>\n",
       "    </tr>\n",
       "    <tr>\n",
       "      <th>1</th>\n",
       "      <td>1.0</td>\n",
       "      <td>(0.0, 0.0, 0.0, 0.0, 0.0, 0.0, 0.0, 0.0, 0.0, ...</td>\n",
       "      <td>44</td>\n",
       "      <td>Private</td>\n",
       "      <td>236746</td>\n",
       "      <td>Masters</td>\n",
       "      <td>14.0</td>\n",
       "      <td>Divorced</td>\n",
       "      <td>Exec-managerial</td>\n",
       "      <td>Not-in-family</td>\n",
       "      <td>White</td>\n",
       "      <td>Male</td>\n",
       "      <td>10520</td>\n",
       "      <td>0</td>\n",
       "      <td>45</td>\n",
       "      <td>United-States</td>\n",
       "      <td>&gt;=50k</td>\n",
       "    </tr>\n",
       "  </tbody>\n",
       "</table>\n",
       "</div>"
      ],
      "text/plain": [
       "   label                                           features age workclass  \\\n",
       "0    1.0  (0.0, 0.0, 0.0, 0.0, 0.0, 0.0, 0.0, 0.0, 0.0, ...  49   Private   \n",
       "1    1.0  (0.0, 0.0, 0.0, 0.0, 0.0, 0.0, 0.0, 0.0, 0.0, ...  44   Private   \n",
       "\n",
       "   fnlwgt    education education_num       marital_status        occupation  \\\n",
       "0  101320   Assoc-acdm          12.0   Married-civ-spouse                NA   \n",
       "1  236746      Masters          14.0             Divorced   Exec-managerial   \n",
       "\n",
       "     relationship    race      sex capital_gain capital_loss hours_per_week  \\\n",
       "0            Wife   White   Female            0         1902             40   \n",
       "1   Not-in-family   White     Male        10520            0             45   \n",
       "\n",
       "   native_country salary  \n",
       "0   United-States  >=50k  \n",
       "1   United-States  >=50k  "
      ]
     },
     "execution_count": 10,
     "metadata": {},
     "output_type": "execute_result"
    }
   ],
   "source": [
    "pd.DataFrame(df.take(2), columns = df.columns)"
   ]
  },
  {
   "cell_type": "code",
   "execution_count": 11,
   "id": "b079813f",
   "metadata": {},
   "outputs": [
    {
     "name": "stdout",
     "output_type": "stream",
     "text": [
      "22777\n",
      "9784\n"
     ]
    }
   ],
   "source": [
    "train, test = df.randomSplit([0.7, 0.3], seed=2021)\n",
    "print(train.count())\n",
    "print(test.count())"
   ]
  },
  {
   "cell_type": "code",
   "execution_count": 12,
   "id": "152b7637",
   "metadata": {},
   "outputs": [
    {
     "name": "stdout",
     "output_type": "stream",
     "text": [
      "root\n",
      " |-- label: double (nullable = false)\n",
      " |-- features: vector (nullable = true)\n",
      " |-- age: string (nullable = true)\n",
      " |-- workclass: string (nullable = true)\n",
      " |-- fnlwgt: string (nullable = true)\n",
      " |-- education: string (nullable = true)\n",
      " |-- education_num: string (nullable = true)\n",
      " |-- marital_status: string (nullable = true)\n",
      " |-- occupation: string (nullable = true)\n",
      " |-- relationship: string (nullable = true)\n",
      " |-- race: string (nullable = true)\n",
      " |-- sex: string (nullable = true)\n",
      " |-- capital_gain: string (nullable = true)\n",
      " |-- capital_loss: string (nullable = true)\n",
      " |-- hours_per_week: string (nullable = true)\n",
      " |-- native_country: string (nullable = true)\n",
      " |-- salary: string (nullable = true)\n",
      " |-- rawPrediction: vector (nullable = true)\n",
      " |-- probability: vector (nullable = true)\n",
      " |-- prediction: double (nullable = false)\n",
      "\n"
     ]
    },
    {
     "data": {
      "text/plain": [
       "DataFrame[label: double, prediction: double, probability: vector, age: string, occupation: string]"
      ]
     },
     "metadata": {},
     "output_type": "display_data"
    }
   ],
   "source": [
    "from pyspark.ml.classification import RandomForestClassifier\n",
    "# 随机森林\n",
    "rf = RandomForestClassifier(featuresCol = 'features', labelCol = 'label')\n",
    "rf_model = rf.fit(train)\n",
    "predictions = rf_model.transform(test)\n",
    "predictions.printSchema()\n",
    "selected = predictions.select(\"label\", \"prediction\", \"probability\", \"age\", \"occupation\")\n",
    "display(selected)"
   ]
  },
  {
   "cell_type": "code",
   "execution_count": 13,
   "id": "9eeacabf",
   "metadata": {},
   "outputs": [
    {
     "data": {
      "text/plain": [
       "0.7116663558561737"
      ]
     },
     "execution_count": 13,
     "metadata": {},
     "output_type": "execute_result"
    }
   ],
   "source": [
    "from pyspark.ml.evaluation import BinaryClassificationEvaluator\n",
    "\n",
    "evaluator = BinaryClassificationEvaluator()\n",
    "evaluator.evaluate(predictions)"
   ]
  },
  {
   "cell_type": "code",
   "execution_count": 17,
   "id": "c0012ffe",
   "metadata": {},
   "outputs": [],
   "source": [
    "fi = rf_model.featureImportances"
   ]
  },
  {
   "cell_type": "code",
   "execution_count": 18,
   "id": "d9916938",
   "metadata": {},
   "outputs": [
    {
     "name": "stdout",
     "output_type": "stream",
     "text": [
      "22132\n"
     ]
    }
   ],
   "source": [
    "print(len(fi))"
   ]
  },
  {
   "cell_type": "code",
   "execution_count": 67,
   "id": "fdcf1923",
   "metadata": {},
   "outputs": [],
   "source": [
    "importancesList=[float(col) for col in  fi]"
   ]
  },
  {
   "cell_type": "code",
   "execution_count": 70,
   "id": "47573885",
   "metadata": {},
   "outputs": [
    {
     "name": "stdout",
     "output_type": "stream",
     "text": [
      "{'age': 0.0, 'workclass': 0.0, 'fnlwgt': 0.0, 'education': 0.019343781065179207, 'education_num': 0.0, 'marital_status': 0.0, 'occupation': 0.0, 'relationship': 0.0, 'race': 0.0040582328515082495, 'sex': 0.0, 'capital_gain': 0.0, 'capital_loss': 0.0, 'hours_per_week': 0.0, 'native_country': 0.0, 'salary': 0.0}\n"
     ]
    }
   ],
   "source": [
    "#colList=['tempcabinetnacelle_1sec','blade3tempbattbox_1sec','blade1tempbattbox_1sec']\n",
    "result=dict(zip(cols,importancesList))\n",
    "print(result)"
   ]
  },
  {
   "cell_type": "code",
   "execution_count": 71,
   "id": "8d392be1",
   "metadata": {},
   "outputs": [],
   "source": [
    "data_df = pd.DataFrame([result])"
   ]
  },
  {
   "cell_type": "code",
   "execution_count": 61,
   "id": "ca02aada",
   "metadata": {},
   "outputs": [
    {
     "data": {
      "text/plain": [
       "0.0"
      ]
     },
     "execution_count": 61,
     "metadata": {},
     "output_type": "execute_result"
    }
   ],
   "source": [
    "result['age']"
   ]
  },
  {
   "cell_type": "code",
   "execution_count": 62,
   "id": "4f787405",
   "metadata": {},
   "outputs": [
    {
     "name": "stdout",
     "output_type": "stream",
     "text": [
      "0.0\n",
      "0.0\n",
      "0.0\n",
      "0.019343781065179207\n",
      "0.0\n",
      "0.0\n",
      "0.0\n",
      "0.0\n",
      "0.0040582328515082495\n",
      "0.0\n",
      "0.0\n",
      "0.0\n",
      "0.0\n",
      "0.0\n",
      "0.0\n"
     ]
    }
   ],
   "source": [
    "for col in cols:\n",
    "    print(result[col])"
   ]
  },
  {
   "cell_type": "code",
   "execution_count": 63,
   "id": "fd351449",
   "metadata": {},
   "outputs": [],
   "source": [
    "dd = pd.DataFrame()"
   ]
  },
  {
   "cell_type": "code",
   "execution_count": 64,
   "id": "903f2162",
   "metadata": {},
   "outputs": [],
   "source": [
    "for col in cols:\n",
    "    #res = {\"name\":col,\"importance\":result[col]}\n",
    "    res = pd.Series([col, result[col]],index=['name', 'importance'])\n",
    "    dd = dd.append(res, ignore_index=True)"
   ]
  },
  {
   "cell_type": "code",
   "execution_count": 65,
   "id": "e544b542",
   "metadata": {},
   "outputs": [
    {
     "data": {
      "text/html": [
       "<div>\n",
       "<style scoped>\n",
       "    .dataframe tbody tr th:only-of-type {\n",
       "        vertical-align: middle;\n",
       "    }\n",
       "\n",
       "    .dataframe tbody tr th {\n",
       "        vertical-align: top;\n",
       "    }\n",
       "\n",
       "    .dataframe thead th {\n",
       "        text-align: right;\n",
       "    }\n",
       "</style>\n",
       "<table border=\"1\" class=\"dataframe\">\n",
       "  <thead>\n",
       "    <tr style=\"text-align: right;\">\n",
       "      <th></th>\n",
       "      <th>importance</th>\n",
       "      <th>name</th>\n",
       "    </tr>\n",
       "  </thead>\n",
       "  <tbody>\n",
       "    <tr>\n",
       "      <th>3</th>\n",
       "      <td>0.019344</td>\n",
       "      <td>education</td>\n",
       "    </tr>\n",
       "    <tr>\n",
       "      <th>8</th>\n",
       "      <td>0.004058</td>\n",
       "      <td>race</td>\n",
       "    </tr>\n",
       "    <tr>\n",
       "      <th>0</th>\n",
       "      <td>0.000000</td>\n",
       "      <td>age</td>\n",
       "    </tr>\n",
       "    <tr>\n",
       "      <th>1</th>\n",
       "      <td>0.000000</td>\n",
       "      <td>workclass</td>\n",
       "    </tr>\n",
       "    <tr>\n",
       "      <th>2</th>\n",
       "      <td>0.000000</td>\n",
       "      <td>fnlwgt</td>\n",
       "    </tr>\n",
       "    <tr>\n",
       "      <th>4</th>\n",
       "      <td>0.000000</td>\n",
       "      <td>education_num</td>\n",
       "    </tr>\n",
       "    <tr>\n",
       "      <th>5</th>\n",
       "      <td>0.000000</td>\n",
       "      <td>marital_status</td>\n",
       "    </tr>\n",
       "    <tr>\n",
       "      <th>6</th>\n",
       "      <td>0.000000</td>\n",
       "      <td>occupation</td>\n",
       "    </tr>\n",
       "    <tr>\n",
       "      <th>7</th>\n",
       "      <td>0.000000</td>\n",
       "      <td>relationship</td>\n",
       "    </tr>\n",
       "    <tr>\n",
       "      <th>9</th>\n",
       "      <td>0.000000</td>\n",
       "      <td>sex</td>\n",
       "    </tr>\n",
       "    <tr>\n",
       "      <th>10</th>\n",
       "      <td>0.000000</td>\n",
       "      <td>capital_gain</td>\n",
       "    </tr>\n",
       "    <tr>\n",
       "      <th>11</th>\n",
       "      <td>0.000000</td>\n",
       "      <td>capital_loss</td>\n",
       "    </tr>\n",
       "    <tr>\n",
       "      <th>12</th>\n",
       "      <td>0.000000</td>\n",
       "      <td>hours_per_week</td>\n",
       "    </tr>\n",
       "    <tr>\n",
       "      <th>13</th>\n",
       "      <td>0.000000</td>\n",
       "      <td>native_country</td>\n",
       "    </tr>\n",
       "    <tr>\n",
       "      <th>14</th>\n",
       "      <td>0.000000</td>\n",
       "      <td>salary</td>\n",
       "    </tr>\n",
       "  </tbody>\n",
       "</table>\n",
       "</div>"
      ],
      "text/plain": [
       "    importance            name\n",
       "3     0.019344       education\n",
       "8     0.004058            race\n",
       "0     0.000000             age\n",
       "1     0.000000       workclass\n",
       "2     0.000000          fnlwgt\n",
       "4     0.000000   education_num\n",
       "5     0.000000  marital_status\n",
       "6     0.000000      occupation\n",
       "7     0.000000    relationship\n",
       "9     0.000000             sex\n",
       "10    0.000000    capital_gain\n",
       "11    0.000000    capital_loss\n",
       "12    0.000000  hours_per_week\n",
       "13    0.000000  native_country\n",
       "14    0.000000          salary"
      ]
     },
     "execution_count": 65,
     "metadata": {},
     "output_type": "execute_result"
    }
   ],
   "source": [
    "dd.sort_values(by=\"importance\",ascending=False)"
   ]
  },
  {
   "cell_type": "code",
   "execution_count": null,
   "id": "e171626f",
   "metadata": {},
   "outputs": [],
   "source": []
  }
 ],
 "metadata": {
  "kernelspec": {
   "display_name": "Python [conda env:py36]",
   "language": "python",
   "name": "conda-env-py36-py"
  },
  "language_info": {
   "codemirror_mode": {
    "name": "ipython",
    "version": 3
   },
   "file_extension": ".py",
   "mimetype": "text/x-python",
   "name": "python",
   "nbconvert_exporter": "python",
   "pygments_lexer": "ipython3",
   "version": "3.6.10"
  }
 },
 "nbformat": 4,
 "nbformat_minor": 5
}
