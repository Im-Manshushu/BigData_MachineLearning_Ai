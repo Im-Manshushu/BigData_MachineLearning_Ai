{
 "cells": [
  {
   "cell_type": "code",
   "execution_count": 19,
   "id": "ca3fe978",
   "metadata": {},
   "outputs": [],
   "source": [
    "import pandas as pd\n",
    "import numpy as np\n",
    "import math\n",
    "data = pd.read_csv('/home/fycmb/wangman/age.csv')\n",
    "\n",
    "# 定义必要的参数\n",
    "feature = data.loc[:,['age']]\n",
    "labels = data['target']\n",
    "keep_cols = ['age']\n",
    "cut_bin_dict = {'age':[0,18,25,30,40,50,100]}"
   ]
  },
  {
   "cell_type": "code",
   "execution_count": 20,
   "id": "ffc4d682",
   "metadata": {},
   "outputs": [
    {
     "data": {
      "text/plain": [
       "{Interval(0, 18, closed='left'),\n",
       " Interval(18, 25, closed='left'),\n",
       " Interval(25, 30, closed='left'),\n",
       " Interval(30, 40, closed='left'),\n",
       " Interval(40, 50, closed='left'),\n",
       " Interval(50, 100, closed='left')}"
      ]
     },
     "execution_count": 20,
     "metadata": {},
     "output_type": "execute_result"
    }
   ],
   "source": [
    "cut_bin = cut_bin_dict['age']\n",
    "# 按照分箱阈值分箱,并将缺失值替换成Blank,区分好坏样本\n",
    "data_bad = pd.cut(feature['age'], cut_bin, right=False).cat.add_categories(['Blank']).fillna('Blank')[labels == 1]\n",
    "data_good = pd.cut(feature['age'], cut_bin, right=False\n",
    "                   ).cat.add_categories(['Blank']).fillna('Blank')[labels == 0]\n",
    "\n",
    "value_list = set(data_bad.unique()) | set(data_good.unique())\n",
    "value_list"
   ]
  },
  {
   "cell_type": "code",
   "execution_count": 41,
   "id": "4b912ff8",
   "metadata": {},
   "outputs": [],
   "source": [
    "def iv_count(data_bad, data_good):\n",
    "    '''计算iv值'''\n",
    "    value_list = set(data_bad.unique()) | set(data_good.unique())\n",
    "    iv = 0\n",
    "    woe = 0\n",
    "    len_bad = len(data_bad)\n",
    "    len_good = len(data_good)\n",
    "    for value in value_list:\n",
    "        # 判断是否某类是否为0，避免出现无穷小值和无穷大值\n",
    "        if sum(data_bad == value) == 0:\n",
    "            bad_rate = 1 / len_bad\n",
    "        else:\n",
    "            bad_rate = sum(data_bad == value) / len_bad\n",
    "        if sum(data_good == value) == 0:\n",
    "            good_rate = 1 / len_good\n",
    "        else:\n",
    "            good_rate = sum(data_good == value) / len_good\n",
    "        iv += (good_rate - bad_rate) * math.log(good_rate / bad_rate,2)\n",
    "        woe = abs(math.log(good_rate / bad_rate,2))\n",
    "        print(value,iv,woe)\n",
    "    return iv"
   ]
  },
  {
   "cell_type": "code",
   "execution_count": 43,
   "id": "f2d647b7",
   "metadata": {},
   "outputs": [
    {
     "name": "stdout",
     "output_type": "stream",
     "text": [
      "[50, 100) 0.02034215715337913 0.6780719051126376\n",
      "[18, 25) 0.07883840722549473 0.5849625007211561\n",
      "[30, 40) 0.17883840722549474 1.0\n",
      "[0, 18) 0.208317030992143 0.7369655941662062\n",
      "[40, 50) 0.3929049405545332 1.6780719051126378\n",
      "[25, 30) 0.4344086904824176 0.41503749927884404\n",
      "0.4344086904824176\n"
     ]
    }
   ],
   "source": [
    "iv_series = iv_count(data_bad, data_good)\n",
    "print(iv_series)"
   ]
  },
  {
   "cell_type": "code",
   "execution_count": 29,
   "id": "9f5744a0",
   "metadata": {},
   "outputs": [],
   "source": [
    "def get_iv_series(feature, labels, keep_cols=None, cut_bin_dict=None):\n",
    "    '''\n",
    "    计算各变量最大的iv值,get_iv_series方法出入参如下:\n",
    "    ------------------------------------------------------------\n",
    "    入参结果如下:\n",
    "        feature: 数据集的特征空间\n",
    "        labels: 数据集的输出空间\n",
    "        keep_cols: 需计算iv值的变量列表\n",
    "        cut_bin_dict: 数值型变量要进行分箱的阈值字典,格式为{'col1':[value1,value2,...], 'col2':[value1,value2,...], ...}\n",
    "    ------------------------------------------------------------\n",
    "    入参结果如下:\n",
    "        iv_series: 各变量最大的IV值\n",
    "    '''\n",
    "    def iv_count(data_bad, data_good):\n",
    "        '''计算iv值'''\n",
    "        value_list = set(data_bad.unique()) | set(data_good.unique())\n",
    "        iv = 0\n",
    "        len_bad = len(data_bad)\n",
    "        len_good = len(data_good)\n",
    "        for value in value_list:\n",
    "            # 判断是否某类是否为0，避免出现无穷小值和无穷大值\n",
    "            if sum(data_bad == value) == 0:\n",
    "                bad_rate = 1 / len_bad\n",
    "            else:\n",
    "                bad_rate = sum(data_bad == value) / len_bad\n",
    "            if sum(data_good == value) == 0:\n",
    "                good_rate = 1 / len_good\n",
    "            else:\n",
    "                good_rate = sum(data_good == value) / len_good\n",
    "            iv += (good_rate - bad_rate) * math.log(good_rate / bad_rate,2)\n",
    "        return iv\n",
    "\n",
    "    if keep_cols is None:\n",
    "        keep_cols = sorted(list(feature.columns))\n",
    "    col_types = feature[keep_cols].dtypes\n",
    "    categorical_feature = list(col_types[col_types == 'object'].index)\n",
    "    numerical_feature = list(col_types[col_types != 'object'].index)\n",
    "\n",
    "    iv_series = pd.Series()\n",
    "\n",
    "    # 遍历数值变量计算iv值\n",
    "    for col in numerical_feature:\n",
    "        cut_bin = cut_bin_dict[col]\n",
    "        # 按照分箱阈值分箱,并将缺失值替换成Blank,区分好坏样本\n",
    "        data_bad = pd.cut(feature[col], cut_bin, right=False).cat.add_categories(['Blank']).fillna('Blank')[labels == 1]\n",
    "        data_good = pd.cut(feature[col], cut_bin, right=False\n",
    "                           ).cat.add_categories(['Blank']).fillna('Blank')[labels == 0]\n",
    "        iv_series[col] = iv_count(data_bad, data_good)\n",
    "    # 遍历类别变量计算iv值\n",
    "    for col in categorical_feature:\n",
    "        # 将缺失值替换成Blank,区分好坏样本\n",
    "        data_bad = feature[col].fillna('Blank')[labels == 1]\n",
    "        data_good = feature[col].fillna('Blank')[labels == 0]\n",
    "        iv_series[col] = iv_count(data_bad, data_good)\n",
    "\n",
    "    return iv_series"
   ]
  },
  {
   "cell_type": "code",
   "execution_count": null,
   "id": "de9bac51",
   "metadata": {},
   "outputs": [],
   "source": [
    "iv_series = get_iv_series(feature, labels, keep_cols, cut_bin_dict=cut_bin_dict)\n",
    "iv_series\n",
    "# age    0.434409"
   ]
  }
 ],
 "metadata": {
  "kernelspec": {
   "display_name": "Python [conda env:py36]",
   "language": "python",
   "name": "conda-env-py36-py"
  },
  "language_info": {
   "codemirror_mode": {
    "name": "ipython",
    "version": 3
   },
   "file_extension": ".py",
   "mimetype": "text/x-python",
   "name": "python",
   "nbconvert_exporter": "python",
   "pygments_lexer": "ipython3",
   "version": "3.6.10"
  }
 },
 "nbformat": 4,
 "nbformat_minor": 5
}
